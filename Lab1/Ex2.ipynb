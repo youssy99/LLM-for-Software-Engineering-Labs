{
 "cells": [
  {
   "cell_type": "code",
   "execution_count": 1,
   "id": "33a348c1",
   "metadata": {},
   "outputs": [],
   "source": [
    "dataset_dir = \"~/data\""
   ]
  },
  {
   "cell_type": "code",
   "execution_count": null,
   "id": "e93cf76d",
   "metadata": {},
   "outputs": [],
   "source": [
    "# Download CIFAR-10 dataset and apply the transformations\n",
    "trainset = torchvision,d"
   ]
  }
 ],
 "metadata": {
  "kernelspec": {
   "display_name": "Python 3",
   "language": "python",
   "name": "python3"
  },
  "language_info": {
   "codemirror_mode": {
    "name": "ipython",
    "version": 3
   },
   "file_extension": ".py",
   "mimetype": "text/x-python",
   "name": "python",
   "nbconvert_exporter": "python",
   "pygments_lexer": "ipython3",
   "version": "3.11.4"
  }
 },
 "nbformat": 4,
 "nbformat_minor": 5
}
