{
 "cells": [
  {
   "cell_type": "markdown",
   "id": "607e906e",
   "metadata": {},
   "source": [
    "Exercise 2: First Model Training"
   ]
  },
  {
   "cell_type": "code",
   "execution_count": 20,
   "id": "33a348c1",
   "metadata": {},
   "outputs": [],
   "source": [
    "import torchvision\n",
    "import torchvision.transforms as transforms\n",
    "import torch\n",
    "import torch.nn as nn\n",
    "import torch.optim as optim\n",
    "import matplotlib.pyplot as plt\n",
    "dataset_dir = \"~/data\""
   ]
  },
  {
   "cell_type": "code",
   "execution_count": 5,
   "id": "e93cf76d",
   "metadata": {},
   "outputs": [
    {
     "name": "stdout",
     "output_type": "stream",
     "text": [
      "Batch of images shape: torch.Size([64, 3, 32, 32])\n",
      "Batch of labels shape: torch.Size([64])\n",
      "Possible classes: airplane,automobile,bird,cat,deer,dog,frog,horse,ship,truck\n"
     ]
    }
   ],
   "source": [
    "# Download CIFAR-10 dataset and apply the transformations\n",
    "trainset = torchvision.datasets.CIFAR10(root= dataset_dir, train= True, download = True, transform = transforms.ToTensor())\n",
    "\n",
    "# Create a DataLoader\n",
    "trainloader = torch.utils.data.DataLoader(trainset, batch_size = 64, shuffle = True, num_workers = 2)\n",
    "\n",
    "# Get a batch of data to verify that everything is working\n",
    "# dataiter = iter(trainloader)\n",
    "images, labels = next(iter(trainloader))\n",
    "\n",
    "print(f\"Batch of images shape: {images.shape}\")\n",
    "print(f\"Batch of labels shape: {labels.shape}\")\n",
    "print(f\"Possible classes: {','.join(trainset.classes)}\")"
   ]
  },
  {
   "cell_type": "markdown",
   "id": "c91a3c12",
   "metadata": {},
   "source": [
    "Plot images in a 8x8 grid to get a sense of what they look like"
   ]
  },
  {
   "cell_type": "code",
   "execution_count": null,
   "id": "0e2d4f34",
   "metadata": {},
   "outputs": [],
   "source": [
    "fig, ax = plt.subplots(8, 8, figsize=(8, 8))\n",
    "plt.rcParams.update({'axes.titlesize': 'small'})\n",
    "plt.tight_layout()\n",
    "# Remove vertical space\n",
    "plt.subplots_adjust(hspace=0.25, wspace=0.1)\n",
    "\n",
    "for i in range(8):\n",
    "    for j in range(8):\n",
    "        # Note that we need to change the order of the dimensions.\n",
    "        # Torch prepare the images to be (C, H, W) but matplotlib expects (H, W, C)\n",
    "        # (H = height, W = width, C = number of color channels)\n",
    "        ax[i, j].imshow(images[i*8 + j].permute(1, 2, 0))\n",
    "        ax[i,j].set_title(trainset.classes[labels[i*8 + j]])\n",
    "        ax[i,j].axis('off')"
   ]
  },
  {
   "cell_type": "markdown",
   "id": "87343b51",
   "metadata": {},
   "source": [
    "Find the mean value and the standard deviation of the images in the dataset"
   ]
  },
  {
   "cell_type": "code",
   "execution_count": 10,
   "id": "4fafdc38",
   "metadata": {},
   "outputs": [
    {
     "data": {
      "text/plain": [
       "(array([0.49139968, 0.48215841, 0.44653091]),\n",
       " array([0.24703223, 0.24348513, 0.26158784]))"
      ]
     },
     "execution_count": 10,
     "metadata": {},
     "output_type": "execute_result"
    }
   ],
   "source": [
    "images_mean = trainset.data.mean(axis = (0,1,2))/255\n",
    "images_std = trainset.data.std(axis = (0,1,2))/255\n",
    "images_mean, images_std"
   ]
  },
  {
   "cell_type": "code",
   "execution_count": 11,
   "id": "445b7e68",
   "metadata": {},
   "outputs": [],
   "source": [
    "transform_train_example = transforms.Compose([\n",
    "    transforms.RandomHorizontalFlip(), # Randomly flip the image horizontally for the data augmentation\n",
    "    transforms.RandomCrop(32, padding_mode='reflect', padding=5), # Randomly crop the image for the data augmentation\n",
    "    transforms.ToTensor(), # Convert the image to a tensor\n",
    "    transforms.Normalize(mean=images_mean, std=images_std) # Normalize the tensor\n",
    "])"
   ]
  },
  {
   "cell_type": "code",
   "execution_count": null,
   "id": "73f31e7c",
   "metadata": {},
   "outputs": [],
   "source": [
    "viz_transform = transforms.Compose([\n",
    "    transforms.RandomHorizontalFlip(),\n",
    "    transforms.RandomCrop(32, padding_mode='reflect', padding=5)\n",
    "])\n",
    "\n",
    "im = transforms.ToPILImage()(images[10])\n",
    "n_transforms = 9\n",
    "\n",
    "fix, ax = plt.subplots(3, 3, figsize=(4, 4))\n",
    "for i in range(n_transforms):\n",
    "    if i == 0: # The first image is the original one\n",
    "        ax[i//3,i%3].imshow(im)\n",
    "    else: # The rest are the transformed images\n",
    "        ax[i//3,i%3].imshow(viz_transform(im))\n",
    "    ax[i//3,i%3].axis('off')"
   ]
  },
  {
   "cell_type": "code",
   "execution_count": 16,
   "id": "54448962",
   "metadata": {},
   "outputs": [],
   "source": [
    "class SimpleNN(nn.Module):\n",
    "    def __init__(self):\n",
    "        super(SimpleNN, self).__init__()\n",
    "        # Notes:\n",
    "        # - Each layer requires specifying the number of input and output features\n",
    "        # - The first layer takes as input a flattened image (32x32x3) and should produce 512 features\n",
    "        #   (i.e., it encodes the image into a 512-dimensional space)\n",
    "        # - The second layer should produce 256 features\n",
    "        # - The output layer should produce 10 features (these will be the logits)\n",
    "        self.fc1 = nn.Linear(32*32*3, 512) #  Input layer to first hidden layer\n",
    "        self.fc2 = nn.Linear(512, 256) # First hidden layer to second hidden layer\n",
    "        self.fc3 = nn.Linear(256, 10) # Second hidden layer to output layer\n",
    "        \n",
    "    def forward(self, x):\n",
    "        # Notes:\n",
    "        # - first step: flatten the input (preserve the batch size, flatten the rest)\n",
    "        # - apply the first linear layer with ReLU activation\n",
    "        # - apply the second linear layer with ReLU activation\n",
    "        # - apply the output layer (no activation needed for the output layer)\n",
    "        x = x.view( -1, 32*32*3) # Flatten the input\n",
    "        # Apply layers with ReLU activation\n",
    "        x = torch.relu(self.fc1(x))\n",
    "        x = torch.relu(self.fc2(x))\n",
    "        x = self.fc3(x) # Output layer (no activation needed for the output layer)\n",
    "        return x"
   ]
  },
  {
   "cell_type": "code",
   "execution_count": 17,
   "id": "2013424f",
   "metadata": {},
   "outputs": [],
   "source": [
    "# Define transformations for the training and test datasets\n",
    "transform_train = transforms.Compose([\n",
    "    transforms.RandomCrop(32, padding_mode='reflect', padding=4),\n",
    "    transforms.RandomHorizontalFlip(),\n",
    "    transforms.ToTensor(),\n",
    "    transforms.Normalize(mean=[0.485, 0.456, 0.406], std=[0.229, 0.224, 0.225]), \n",
    "])\n",
    "\n",
    "transform_test = transforms.Compose([\n",
    "    transforms.ToTensor(),\n",
    "    transforms.Normalize(mean=[0.485, 0.456, 0.406], std=[0.229, 0.224, 0.225]),\n",
    "])"
   ]
  },
  {
   "cell_type": "code",
   "execution_count": 18,
   "id": "3ce27a1f",
   "metadata": {},
   "outputs": [],
   "source": [
    "# Load CIFAR-10 dataset\n",
    "batch_size = 1024\n",
    "trainset = torchvision.datasets.CIFAR10(root=dataset_dir, train=True, download=True, transform=transform_train)\n",
    "trainloader = torch.utils.data.DataLoader(trainset, batch_size=batch_size, shuffle=True)\n",
    "\n",
    "testset = torchvision.datasets.CIFAR10(root=dataset_dir, train=False, download=True, transform=transform_test)\n",
    "testloader = torch.utils.data.DataLoader(testset, batch_size=batch_size, shuffle=False)"
   ]
  },
  {
   "cell_type": "code",
   "execution_count": 21,
   "id": "7e295239",
   "metadata": {},
   "outputs": [],
   "source": [
    "# Initialize the model, loss function, and optimizer\n",
    "model = SimpleNN()\n",
    "device = torch.device(\"cuda\" if torch.cuda.is_available() else \"cpu\")\n",
    "model = model.to(device)\n",
    "criterion = nn.CrossEntropyLoss()\n",
    "optimizer = optim.SGD(model.parameters(), lr=0.01, momentum=0.9)"
   ]
  },
  {
   "cell_type": "code",
   "execution_count": 22,
   "id": "a896d854",
   "metadata": {},
   "outputs": [],
   "source": [
    "def val_model(model, testloader):\n",
    "    model.eval() # NOTE: required to set the model to evaluation mode (some layers may behave differently during training and evaluation)\n",
    "    correct = 0\n",
    "    total = 0\n",
    "    with torch.no_grad(): # NOTE: we disable gradient tracking for validation, to save memory!\n",
    "        for inputs, labels in testloader:\n",
    "            inputs, labels = inputs.to(device), labels.to(device)\n",
    "            outputs = model(inputs)\n",
    "            _, predicted = torch.max(outputs.data, 1)\n",
    "            total += labels.size(0)\n",
    "            correct += (predicted == labels).sum().item()\n",
    "\n",
    "    print(f\"Accuracy of the network on the test images: {100 * correct / total:.2f}%\")"
   ]
  },
  {
   "cell_type": "code",
   "execution_count": null,
   "id": "2d5c44f3",
   "metadata": {},
   "outputs": [
    {
     "name": "stdout",
     "output_type": "stream",
     "text": [
      "Accuracy of the network on the test images: 10.05%\n"
     ]
    }
   ],
   "source": [
    "val_model(model, testloader)"
   ]
  },
  {
   "cell_type": "code",
   "execution_count": 24,
   "id": "8319f455",
   "metadata": {},
   "outputs": [
    {
     "name": "stdout",
     "output_type": "stream",
     "text": [
      "Epoch [1/5], Loss: 2.1019\n",
      "Epoch [2/5], Loss: 1.8670\n",
      "Epoch [3/5], Loss: 1.7646\n",
      "Epoch [4/5], Loss: 1.7001\n",
      "Epoch [5/5], Loss: 1.6577\n"
     ]
    }
   ],
   "source": [
    "# Training loop\n",
    "num_epochs = 5\n",
    "\n",
    "losses = []\n",
    "\n",
    "model.train()\n",
    "for epoch in range(num_epochs):\n",
    "    running_loss = 0.0\n",
    "    for inputs, labels in trainloader:\n",
    "        inputs, labels = inputs.to(device), labels.to(device)\n",
    "\n",
    "        # TODO: let's implement the training loop for the model\n",
    "        # Notes:\n",
    "        # - First, zero the parameter gradients\n",
    "        # - Next, get the model's predictions\n",
    "        # - Compute the loss\n",
    "        # - Perform backpropagation (i.e. compute all gradients)\n",
    "        # - Finally, update the model's parameters\n",
    "\n",
    "        # Zero the parameter gradients\n",
    "        optimizer.zero_grad()\n",
    "\n",
    "        # Forward pass\n",
    "        outputs = model(inputs)\n",
    "        loss = criterion(outputs, labels)\n",
    "\n",
    "        # Backward pass and optimization\n",
    "        loss.backward()\n",
    "        optimizer.step()\n",
    "\n",
    "\n",
    "        losses.append(loss.item())\n",
    "\n",
    "        running_loss += loss.item()\n",
    "    print(f\"Epoch [{epoch+1}/{num_epochs}], Loss: {running_loss/len(trainloader):.4f}\")"
   ]
  },
  {
   "cell_type": "code",
   "execution_count": 25,
   "id": "a891ed3e",
   "metadata": {},
   "outputs": [
    {
     "name": "stdout",
     "output_type": "stream",
     "text": [
      "Accuracy of the network on the test images: 45.87%\n"
     ]
    }
   ],
   "source": [
    "val_model(model, testloader)"
   ]
  },
  {
   "cell_type": "code",
   "execution_count": null,
   "id": "95a1481d",
   "metadata": {},
   "outputs": [],
   "source": [
    "fig, ax = plt.subplots()\n",
    "\n",
    "ax.plot(losses)\n",
    "ax.set_xlabel(\"Steps\")\n",
    "ax.set_ylabel(\"Loss\")"
   ]
  },
  {
   "cell_type": "markdown",
   "id": "e4d82ef3",
   "metadata": {},
   "source": [
    "Load and train a Model on CIFAR-10"
   ]
  },
  {
   "cell_type": "code",
   "execution_count": 27,
   "id": "0867121d",
   "metadata": {},
   "outputs": [],
   "source": [
    "# Load the CIFAR-10 dataset\n",
    "trainset = torchvision.datasets.CIFAR10(root=dataset_dir, train=True, download=True, transform=transform_train)\n",
    "trainloader = torch.utils.data.DataLoader(trainset, batch_size=512, shuffle=True)\n",
    "\n",
    "testset = torchvision.datasets.CIFAR10(root=dataset_dir, train=False, download=True, transform=transform_test)\n",
    "testloader = torch.utils.data.DataLoader(testset, batch_size=512, shuffle=False)"
   ]
  },
  {
   "cell_type": "code",
   "execution_count": 28,
   "id": "91400ca7",
   "metadata": {},
   "outputs": [],
   "source": [
    "from torchvision import models\n",
    "\n",
    "# Load a pre-trained model (ResNet18)\n",
    "model = models.resnet18(weights=None)\n",
    "model.fc = nn.Linear(model.fc.in_features, 10)  # CIFAR-10 has 10 classes\n",
    "model = model.to(device)"
   ]
  },
  {
   "cell_type": "code",
   "execution_count": 29,
   "id": "977fd477",
   "metadata": {},
   "outputs": [],
   "source": [
    "# Define loss function and optimizer\n",
    "criterion = nn.CrossEntropyLoss()\n",
    "optimizer = optim.SGD(model.parameters(), lr=0.01, momentum=0.9, weight_decay=5e-4)"
   ]
  },
  {
   "cell_type": "code",
   "execution_count": 30,
   "id": "6f86c73b",
   "metadata": {},
   "outputs": [
    {
     "name": "stdout",
     "output_type": "stream",
     "text": [
      "Epoch [1/5], Loss: 1.7429\n",
      "Epoch [2/5], Loss: 1.4015\n",
      "Epoch [3/5], Loss: 1.2524\n",
      "Epoch [4/5], Loss: 1.1529\n",
      "Epoch [5/5], Loss: 1.0780\n"
     ]
    }
   ],
   "source": [
    "# Training loop\n",
    "num_epochs = 5\n",
    "\n",
    "losses = []\n",
    "\n",
    "model.train()\n",
    "for epoch in range(num_epochs):\n",
    "    running_loss = 0.0\n",
    "    for inputs, labels in trainloader:\n",
    "        inputs, labels = inputs.to(device), labels.to(device)\n",
    "\n",
    "        # Zero the parameter gradients\n",
    "        optimizer.zero_grad()\n",
    "\n",
    "        # Forward pass\n",
    "        outputs = model(inputs)\n",
    "        loss = criterion(outputs, labels)\n",
    "\n",
    "        # Backward pass and optimization\n",
    "        loss.backward()\n",
    "        optimizer.step()\n",
    "\n",
    "        losses.append(loss.item())\n",
    "\n",
    "        running_loss += loss.item()\n",
    "\n",
    "    print(f\"Epoch [{epoch+1}/{num_epochs}], Loss: {running_loss/len(trainloader):.4f}\")"
   ]
  },
  {
   "cell_type": "code",
   "execution_count": 33,
   "id": "31ca66dc",
   "metadata": {},
   "outputs": [
    {
     "name": "stdout",
     "output_type": "stream",
     "text": [
      "Accuracy of the network on the test images: 62.97%\n"
     ]
    }
   ],
   "source": [
    "# Validate the model\n",
    "val_model(model, testloader)"
   ]
  },
  {
   "cell_type": "code",
   "execution_count": 34,
   "id": "cad6aca0",
   "metadata": {},
   "outputs": [
    {
     "data": {
      "text/plain": [
       "Text(0, 0.5, 'Loss')"
      ]
     },
     "execution_count": 34,
     "metadata": {},
     "output_type": "execute_result"
    },
    {
     "data": {
      "image/png": "[encoded data removed]",
      "text/plain": [
       "<Figure size 640x480 with 1 Axes>"
      ]
     },
     "metadata": {},
     "output_type": "display_data"
    }
   ],
   "source": [
    "fig, ax = plt.subplots()\n",
    "\n",
    "ax.plot(losses)\n",
    "ax.set_xlabel(\"Steps\")\n",
    "ax.set_ylabel(\"Loss\")"
   ]
  }
 ],
 "metadata": {
  "kernelspec": {
   "display_name": "venv",
   "language": "python",
   "name": "python3"
  },
  "language_info": {
   "codemirror_mode": {
    "name": "ipython",
    "version": 3
   },
   "file_extension": ".py",
   "mimetype": "text/x-python",
   "name": "python",
   "nbconvert_exporter": "python",
   "pygments_lexer": "ipython3",
   "version": "3.11.4"
  }
 },
 "nbformat": 4,
 "nbformat_minor": 5
}
