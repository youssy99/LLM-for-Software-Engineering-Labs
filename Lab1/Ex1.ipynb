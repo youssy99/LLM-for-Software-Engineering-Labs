{
 "cells": [
  {
   "cell_type": "code",
   "execution_count": 3,
   "metadata": {
    "executionInfo": {
     "elapsed": 6,
     "status": "ok",
     "timestamp": 1760170534132,
     "user": {
      "displayName": "Youssef",
      "userId": "08192378604580478257"
     },
     "user_tz": -120
    },
    "id": "15KYhWA2bmgK"
   },
   "outputs": [
    {
     "name": "stderr",
     "output_type": "stream",
     "text": [
      "Matplotlib is building the font cache; this may take a moment.\n"
     ]
    }
   ],
   "source": [
    "# Import necessary libraries\n",
    "import torch\n",
    "import torch.nn as nn\n",
    "import torch.optim as optim\n",
    "import torch.nn.functional as F\n",
    "from torch.utils.data import DataLoader, TensorDataset\n",
    "\n",
    "import torchvision\n",
    "import torchvision.transforms as transforms\n",
    "import matplotlib.pyplot as plt"
   ]
  },
  {
   "cell_type": "markdown",
   "metadata": {
    "id": "ifANxqa5b4li"
   },
   "source": [
    "Tensors"
   ]
  },
  {
   "cell_type": "markdown",
   "metadata": {
    "id": "YrN9WXgPfRgk"
   },
   "source": [
    "Exercise 1: A simple neural network"
   ]
  },
  {
   "cell_type": "code",
   "execution_count": 4,
   "metadata": {
    "executionInfo": {
     "elapsed": 9,
     "status": "ok",
     "timestamp": 1760170534147,
     "user": {
      "displayName": "Youssef",
      "userId": "08192378604580478257"
     },
     "user_tz": -120
    },
    "id": "VnHnX2YyfQja"
   },
   "outputs": [],
   "source": [
    "# Define a simple linear model\n",
    "class SimpleLinearModel(nn.Module):\n",
    "    def __init__(self, input_size, output_size):\n",
    "        super(SimpleLinearModel, self).__init__()\n",
    "        self.linear = nn.Linear(input_size, output_size)\n",
    "\n",
    "    def forward(self,x):\n",
    "      return self.linear(x)\n",
    "# Initialize the model, loss function, and optimizer\n",
    "model = SimpleLinearModel(1,1)"
   ]
  },
  {
   "cell_type": "code",
   "execution_count": 5,
   "metadata": {
    "colab": {
     "base_uri": "https://localhost:8080/"
    },
    "executionInfo": {
     "elapsed": 71,
     "status": "ok",
     "timestamp": 1760170534217,
     "user": {
      "displayName": "Youssef",
      "userId": "08192378604580478257"
     },
     "user_tz": -120
    },
    "id": "MPvXn7RGlqTP",
    "outputId": "b00a8b6a-255a-4cb1-e2b1-41e4eab5071d"
   },
   "outputs": [
    {
     "name": "stdout",
     "output_type": "stream",
     "text": [
      "The device is set to: cpu\n"
     ]
    }
   ],
   "source": [
    "device = torch.device(\"cuda\" if torch.cuda.is_available() else \"cpu\")\n",
    "print(f\"The device is set to: {device}\")"
   ]
  },
  {
   "cell_type": "code",
   "execution_count": 6,
   "metadata": {
    "executionInfo": {
     "elapsed": 28,
     "status": "ok",
     "timestamp": 1760170534217,
     "user": {
      "displayName": "Youssef",
      "userId": "08192378604580478257"
     },
     "user_tz": -120
    },
    "id": "UHM83dVSl3bo"
   },
   "outputs": [],
   "source": [
    "model = model.to(device)"
   ]
  },
  {
   "cell_type": "code",
   "execution_count": 7,
   "metadata": {
    "colab": {
     "base_uri": "https://localhost:8080/"
    },
    "executionInfo": {
     "elapsed": 21,
     "status": "ok",
     "timestamp": 1760170534218,
     "user": {
      "displayName": "Youssef",
      "userId": "08192378604580478257"
     },
     "user_tz": -120
    },
    "id": "8SPTxu5LLx8e",
    "outputId": "d37c4b10-05a9-4fc9-fb22-43f511ba8b2d"
   },
   "outputs": [
    {
     "name": "stdout",
     "output_type": "stream",
     "text": [
      "Weight  Parameter containing:\n",
      "tensor([[0.3448]], requires_grad=True)\n",
      "Bias  Parameter containing:\n",
      "tensor([-0.0989], requires_grad=True)\n"
     ]
    }
   ],
   "source": [
    "print(\"Weight \", model.linear.weight)\n",
    "print(\"Bias \", model.linear.bias)"
   ]
  },
  {
   "cell_type": "code",
   "execution_count": 8,
   "metadata": {
    "executionInfo": {
     "elapsed": 19,
     "status": "ok",
     "timestamp": 1760170534218,
     "user": {
      "displayName": "Youssef",
      "userId": "08192378604580478257"
     },
     "user_tz": -120
    },
    "id": "dtEGNvKEL1fU"
   },
   "outputs": [],
   "source": [
    "criterion = nn.MSELoss()\n",
    "optimizer = optim.SGD(model.parameters(), lr=0.01)"
   ]
  },
  {
   "cell_type": "code",
   "execution_count": 9,
   "metadata": {
    "executionInfo": {
     "elapsed": 21,
     "status": "ok",
     "timestamp": 1760175273604,
     "user": {
      "displayName": "Youssef",
      "userId": "08192378604580478257"
     },
     "user_tz": -120
    },
    "id": "GfKCP5JPN4Oh"
   },
   "outputs": [],
   "source": [
    "# Create a dataset (for simplicity, we use a small synthetic dataset)\n",
    "# X is the input features, y is the target labels\n",
    "n_pts = 2048\n",
    "X = torch.rand(n_pts,1)\n",
    "w = 5\n",
    "b = 3\n",
    "y = w * X + b + 0.1 * torch.randn(n_pts,1) # adding gaussian noise\n",
    "\n",
    "# Create DataLoader\n",
    "dataset = TensorDataset(X, y)\n",
    "trainloader = DataLoader(dataset, batch_size=256, shuffle=True, drop_last=True) # drop_last is used if the last batch is not big enough to discard it"
   ]
  },
  {
   "cell_type": "code",
   "execution_count": 10,
   "metadata": {
    "colab": {
     "base_uri": "https://localhost:8080/"
    },
    "collapsed": true,
    "executionInfo": {
     "elapsed": 1164,
     "status": "ok",
     "timestamp": 1760175361715,
     "user": {
      "displayName": "Youssef",
      "userId": "08192378604580478257"
     },
     "user_tz": -120
    },
    "id": "fyXBkWSmRZIJ",
    "outputId": "c67627fb-952b-4e97-c6b3-2587bc30d369"
   },
   "outputs": [
    {
     "name": "stdout",
     "output_type": "stream",
     "text": [
      "Epoch [1/50], Loss: 26.0154\n",
      "Epoch [2/50], Loss: 17.4523\n",
      "Epoch [3/50], Loss: 11.7540\n",
      "Epoch [4/50], Loss: 7.9608\n",
      "Epoch [5/50], Loss: 5.4351\n",
      "Epoch [6/50], Loss: 3.7520\n",
      "Epoch [7/50], Loss: 2.6299\n",
      "Epoch [8/50], Loss: 1.8804\n",
      "Epoch [9/50], Loss: 1.3794\n",
      "Epoch [10/50], Loss: 1.0437\n",
      "Epoch [11/50], Loss: 0.8176\n",
      "Epoch [12/50], Loss: 0.6647\n",
      "Epoch [13/50], Loss: 0.5607\n",
      "Epoch [14/50], Loss: 0.4891\n",
      "Epoch [15/50], Loss: 0.4391\n",
      "Epoch [16/50], Loss: 0.4035\n",
      "Epoch [17/50], Loss: 0.3777\n",
      "Epoch [18/50], Loss: 0.3583\n",
      "Epoch [19/50], Loss: 0.3432\n",
      "Epoch [20/50], Loss: 0.3311\n",
      "Epoch [21/50], Loss: 0.3210\n",
      "Epoch [22/50], Loss: 0.3123\n",
      "Epoch [23/50], Loss: 0.3045\n",
      "Epoch [24/50], Loss: 0.2974\n",
      "Epoch [25/50], Loss: 0.2907\n",
      "Epoch [26/50], Loss: 0.2845\n",
      "Epoch [27/50], Loss: 0.2785\n",
      "Epoch [28/50], Loss: 0.2728\n",
      "Epoch [29/50], Loss: 0.2672\n",
      "Epoch [30/50], Loss: 0.2618\n",
      "Epoch [31/50], Loss: 0.2565\n",
      "Epoch [32/50], Loss: 0.2514\n",
      "Epoch [33/50], Loss: 0.2463\n",
      "Epoch [34/50], Loss: 0.2415\n",
      "Epoch [35/50], Loss: 0.2367\n",
      "Epoch [36/50], Loss: 0.2320\n",
      "Epoch [37/50], Loss: 0.2274\n",
      "Epoch [38/50], Loss: 0.2229\n",
      "Epoch [39/50], Loss: 0.2185\n",
      "Epoch [40/50], Loss: 0.2141\n",
      "Epoch [41/50], Loss: 0.2099\n",
      "Epoch [42/50], Loss: 0.2058\n",
      "Epoch [43/50], Loss: 0.2017\n",
      "Epoch [44/50], Loss: 0.1978\n",
      "Epoch [45/50], Loss: 0.1939\n",
      "Epoch [46/50], Loss: 0.1901\n",
      "Epoch [47/50], Loss: 0.1863\n",
      "Epoch [48/50], Loss: 0.1827\n",
      "Epoch [49/50], Loss: 0.1791\n",
      "Epoch [50/50], Loss: 0.1756\n"
     ]
    }
   ],
   "source": [
    "# Training loop\n",
    "num_epochs = 50\n",
    "losses = []\n",
    "weights = []\n",
    "biases = []\n",
    "\n",
    "model.train()\n",
    "for epoch in range(num_epochs):\n",
    "  running_loss = 0.00\n",
    "  for inputs, labels in trainloader:\n",
    "    inputs, labels = inputs.to(device), labels.to(device)\n",
    "    # Zero the parameter gradients\n",
    "    optimizer.zero_grad()\n",
    "\n",
    "    # Forward pass\n",
    "    outputs = model(inputs)\n",
    "    loss = criterion(outputs, labels)\n",
    "\n",
    "    # Backward pass and optimization\n",
    "    loss.backward()\n",
    "    optimizer.step()\n",
    "\n",
    "    # Save the loss, weight, and bias\n",
    "    losses.append(loss.item())\n",
    "    weights.append(model.linear.weight.item())\n",
    "    biases.append(model.linear.bias.item())\n",
    "\n",
    "    running_loss += loss.item()\n",
    "\n",
    "  print(f\"Epoch [{epoch+1}/{num_epochs}], Loss: {running_loss/len(trainloader):.4f}\")\n",
    "\n"
   ]
  },
  {
   "cell_type": "code",
   "execution_count": 11,
   "metadata": {
    "colab": {
     "base_uri": "https://localhost:8080/",
     "height": 333
    },
    "executionInfo": {
     "elapsed": 496,
     "status": "ok",
     "timestamp": 1760170551216,
     "user": {
      "displayName": "Youssef",
      "userId": "08192378604580478257"
     },
     "user_tz": -120
    },
    "id": "9G1gmOKvTTS3",
    "outputId": "d1cbb039-4e55-4e78-d078-1df586ed3b97"
   },
   "outputs": [
    {
     "data": {
      "image/png": "[encoded data removed]",
      "text/plain": [
       "<Figure size 1500x300 with 3 Axes>"
      ]
     },
     "metadata": {},
     "output_type": "display_data"
    }
   ],
   "source": [
    "fig, ax = plt.subplots(1,3, figsize=(15,3))\n",
    "\n",
    "ax[0].plot(losses)\n",
    "ax[0].set_title(\"Loss\")\n",
    "ax[0].set_xlabel(\"Steps\")\n",
    "ax[0].set_ylabel(\"Loss\")\n",
    "ax[0].grid()\n",
    "\n",
    "ax[1].plot(weights)\n",
    "ax[1].set_title(\"Weight\")\n",
    "ax[1].set_xlabel(\"Steps\")\n",
    "ax[1].set_ylabel(\"Weight\")\n",
    "ax[1].grid()\n",
    "\n",
    "ax[2].plot(biases)\n",
    "ax[2].set_title(\"Bias\")\n",
    "ax[2].set_xlabel(\"Steps\")\n",
    "ax[2].set_ylabel(\"Bias\")\n",
    "ax[2].grid()\n"
   ]
  },
  {
   "cell_type": "code",
   "execution_count": 12,
   "metadata": {
    "colab": {
     "base_uri": "https://localhost:8080/"
    },
    "executionInfo": {
     "elapsed": 2,
     "status": "ok",
     "timestamp": 1760170536673,
     "user": {
      "displayName": "Youssef",
      "userId": "08192378604580478257"
     },
     "user_tz": -120
    },
    "id": "3yKG8LNpVO7E",
    "outputId": "ab21f9d9-db26-49fd-ca12-859b6ead4d1c"
   },
   "outputs": [
    {
     "name": "stdout",
     "output_type": "stream",
     "text": [
      "Learned weight: tensor([[3.5897]])\n",
      "Learned bias: tensor([3.7426])\n"
     ]
    }
   ],
   "source": [
    "# Inspecting the learned weights and biases\n",
    "weights = model.linear.weight.data\n",
    "biases = model.linear.bias.data\n",
    "\n",
    "print(f\"Learned weight: {weights}\")\n",
    "print(f\"Learned bias: {biases}\")"
   ]
  }
 ],
 "metadata": {
  "colab": {
   "authorship_tag": "ABX9TyMHRKl+s/ML4Ar8r9tcau2j",
   "provenance": []
  },
  "kernelspec": {
   "display_name": "venv",
   "language": "python",
   "name": "python3"
  },
  "language_info": {
   "codemirror_mode": {
    "name": "ipython",
    "version": 3
   },
   "file_extension": ".py",
   "mimetype": "text/x-python",
   "name": "python",
   "nbconvert_exporter": "python",
   "pygments_lexer": "ipython3",
   "version": "3.11.4"
  }
 },
 "nbformat": 4,
 "nbformat_minor": 0
}
